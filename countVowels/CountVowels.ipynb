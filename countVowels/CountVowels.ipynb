{
 "cells": [
  {
   "cell_type": "code",
   "execution_count": 39,
   "id": "998f0332",
   "metadata": {},
   "outputs": [],
   "source": [
    "def count(text):\n",
    "    n = 0\n",
    "    for s in text.lower():\n",
    "        if s in \"aeiou\":\n",
    "            n+=1\n",
    "    return n"
   ]
  },
  {
   "cell_type": "code",
   "execution_count": 54,
   "id": "cbf72458",
   "metadata": {},
   "outputs": [],
   "source": [
    "t = \"\"\"An apple is a round, edible fruit produced by an apple tree\n",
    "(Malus spp., among them the domestic or orchard apple; Malus domestica).\n",
    "Apple trees are cultivated worldwide and are the most widely grown species in the genus Malus.\"\"\""
   ]
  },
  {
   "cell_type": "code",
   "execution_count": 55,
   "id": "9a62afad",
   "metadata": {},
   "outputs": [
    {
     "data": {
      "text/plain": [
       "70"
      ]
     },
     "execution_count": 55,
     "metadata": {},
     "output_type": "execute_result"
    }
   ],
   "source": [
    "count(t)"
   ]
  }
 ],
 "metadata": {
  "kernelspec": {
   "display_name": "Python 3 (ipykernel)",
   "language": "python",
   "name": "python3"
  },
  "language_info": {
   "codemirror_mode": {
    "name": "ipython",
    "version": 3
   },
   "file_extension": ".py",
   "mimetype": "text/x-python",
   "name": "python",
   "nbconvert_exporter": "python",
   "pygments_lexer": "ipython3",
   "version": "3.10.12"
  }
 },
 "nbformat": 4,
 "nbformat_minor": 5
}
