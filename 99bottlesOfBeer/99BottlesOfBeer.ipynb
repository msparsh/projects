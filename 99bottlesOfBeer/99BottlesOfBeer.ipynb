{
 "cells": [
  {
   "cell_type": "code",
   "execution_count": 29,
   "id": "d17c1136",
   "metadata": {},
   "outputs": [],
   "source": [
    "def play(n=99):\n",
    "    if n == 1:\n",
    "        print(\"1 bottle of beer on the wall, 1 bottle of beer.\\nTake one down and pass it around, there's no more bottles of beer on the wall!\")\n",
    "        return None\n",
    "    print(f\"{n} bottles of beer on the wall. {n} bottles of beer.\\nTake one down, pass it around, {n-1} bottles of beer on the wall.\\n\")\n",
    "    play(n-1)"
   ]
  },
  {
   "cell_type": "code",
   "execution_count": 30,
   "id": "48e418f7",
   "metadata": {},
   "outputs": [
    {
     "name": "stdout",
     "output_type": "stream",
     "text": [
      "8 bottles of beer on the wall. 8 bottles of beer.\n",
      "Take one down, pass it around, 7 bottles of beer on the wall.\n",
      "\n",
      "7 bottles of beer on the wall. 7 bottles of beer.\n",
      "Take one down, pass it around, 6 bottles of beer on the wall.\n",
      "\n",
      "6 bottles of beer on the wall. 6 bottles of beer.\n",
      "Take one down, pass it around, 5 bottles of beer on the wall.\n",
      "\n",
      "5 bottles of beer on the wall. 5 bottles of beer.\n",
      "Take one down, pass it around, 4 bottles of beer on the wall.\n",
      "\n",
      "4 bottles of beer on the wall. 4 bottles of beer.\n",
      "Take one down, pass it around, 3 bottles of beer on the wall.\n",
      "\n",
      "3 bottles of beer on the wall. 3 bottles of beer.\n",
      "Take one down, pass it around, 2 bottles of beer on the wall.\n",
      "\n",
      "2 bottles of beer on the wall. 2 bottles of beer.\n",
      "Take one down, pass it around, 1 bottles of beer on the wall.\n",
      "\n",
      "1 bottle of beer on the wall, 1 bottle of beer.\n",
      "Take one down and pass it around, there's no more bottles of beer on the wall!\n"
     ]
    }
   ],
   "source": [
    "play(8)"
   ]
  },
  {
   "cell_type": "code",
   "execution_count": null,
   "id": "8d346e77",
   "metadata": {},
   "outputs": [],
   "source": []
  }
 ],
 "metadata": {
  "kernelspec": {
   "display_name": "Python 3 (ipykernel)",
   "language": "python",
   "name": "python3"
  },
  "language_info": {
   "codemirror_mode": {
    "name": "ipython",
    "version": 3
   },
   "file_extension": ".py",
   "mimetype": "text/x-python",
   "name": "python",
   "nbconvert_exporter": "python",
   "pygments_lexer": "ipython3",
   "version": "3.10.12"
  }
 },
 "nbformat": 4,
 "nbformat_minor": 5
}
