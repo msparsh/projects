{
 "cells": [
  {
   "cell_type": "markdown",
   "id": "b2bd6c1e",
   "metadata": {},
   "source": [
    "No punctuation."
   ]
  },
  {
   "cell_type": "code",
   "execution_count": 28,
   "id": "6dd3a935",
   "metadata": {},
   "outputs": [],
   "source": [
    "def convert(s):\n",
    "    if s[0].lower() in \"aeiou\":\n",
    "        s=s+\"way\"\n",
    "    else:\n",
    "        s = s[1:]+s[0]+\"ay\"\n",
    "    return s\n",
    "def pigL(text):\n",
    "    for s in text.lower().split():\n",
    "        print(convert(s),end=\" \")"
   ]
  },
  {
   "cell_type": "code",
   "execution_count": 30,
   "id": "ddd2a63a",
   "metadata": {},
   "outputs": [
    {
     "name": "stdout",
     "output_type": "stream",
     "text": [
      "ogay otay houtay asthay itway adway ungillday atway hetay ingersfay endsway asway heytay aysay "
     ]
    }
   ],
   "source": [
    "pigL(\"Go to thou hast it ad dungill at the fingers ends as they say\")"
   ]
  }
 ],
 "metadata": {
  "kernelspec": {
   "display_name": "Python 3 (ipykernel)",
   "language": "python",
   "name": "python3"
  },
  "language_info": {
   "codemirror_mode": {
    "name": "ipython",
    "version": 3
   },
   "file_extension": ".py",
   "mimetype": "text/x-python",
   "name": "python",
   "nbconvert_exporter": "python",
   "pygments_lexer": "ipython3",
   "version": "3.10.12"
  }
 },
 "nbformat": 4,
 "nbformat_minor": 5
}
