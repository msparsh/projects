{
 "cells": [
  {
   "cell_type": "code",
   "execution_count": 31,
   "id": "75b010a2",
   "metadata": {},
   "outputs": [],
   "source": [
    "def fibonacci_upto(n=100, a = 1, b = 0):\n",
    "    \"\"\"\n",
    "    Prints terms of the series upto the number n\"\"\"\n",
    "    if a>n:\n",
    "        print(\"End of Series.\")\n",
    "        return None\n",
    "    else:\n",
    "        print(a,end=\", \")\n",
    "        fibonacci_upto(n, a+b, a)"
   ]
  },
  {
   "cell_type": "code",
   "execution_count": 32,
   "id": "4f5b4481",
   "metadata": {},
   "outputs": [
    {
     "name": "stdout",
     "output_type": "stream",
     "text": [
      "1, 1, 2, 3, 5, 8, 13, 21, 34, 55, 89, 144, End of Series.\n"
     ]
    }
   ],
   "source": [
    "fibonacci_upto(150)"
   ]
  },
  {
   "cell_type": "code",
   "execution_count": 33,
   "id": "bef06266",
   "metadata": {},
   "outputs": [],
   "source": [
    "def fibonacci(n=20, i=0 , a = 1, b = 0):\n",
    "    \"\"\"\n",
    "    Prints n terms of the series\n",
    "    \"\"\"\n",
    "    if i>=n:\n",
    "        print(\"End of Series.\")\n",
    "        return None\n",
    "    else:\n",
    "        print(a,end=\", \")\n",
    "        fibonacci(n, i+1, a+b, a)"
   ]
  },
  {
   "cell_type": "code",
   "execution_count": 35,
   "id": "66ed9c82",
   "metadata": {},
   "outputs": [
    {
     "name": "stdout",
     "output_type": "stream",
     "text": [
      "1, 1, 2, 3, 5, 8, 13, 21, 34, 55, 89, 144, 233, 377, 610, End of Series.\n"
     ]
    }
   ],
   "source": [
    "fibonacci(15)"
   ]
  },
  {
   "cell_type": "code",
   "execution_count": null,
   "id": "bd778f5f",
   "metadata": {},
   "outputs": [],
   "source": []
  }
 ],
 "metadata": {
  "kernelspec": {
   "display_name": "Python 3 (ipykernel)",
   "language": "python",
   "name": "python3"
  },
  "language_info": {
   "codemirror_mode": {
    "name": "ipython",
    "version": 3
   },
   "file_extension": ".py",
   "mimetype": "text/x-python",
   "name": "python",
   "nbconvert_exporter": "python",
   "pygments_lexer": "ipython3",
   "version": "3.10.12"
  }
 },
 "nbformat": 4,
 "nbformat_minor": 5
}
